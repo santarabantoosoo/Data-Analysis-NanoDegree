{
 "cells": [
  {
   "cell_type": "code",
   "execution_count": 2,
   "metadata": {
    "ExecuteTime": {
     "end_time": "2021-12-08T18:19:06.444800Z",
     "start_time": "2021-12-08T18:19:06.412237Z"
    }
   },
   "outputs": [],
   "source": [
    "import pandas as pd\n",
    "import numpy as np\n",
    "import os\n",
    "\n",
    "from matplotlib import pyplot as plt\n",
    "import seaborn as sns\n",
    "from matplotlib.ticker import FuncFormatter"
   ]
  },
  {
   "cell_type": "markdown",
   "metadata": {},
   "source": [
    "# Baby Names Visual\n",
    "\n",
    "From [\"Measuring Statistical Dispersion with the Gini Coefficient\"](http://kimberlyfessel.com/mathematics/applications/gini-use-cases/)\n",
    "\n",
    "_Kimberly Fessel, PhD_ &nbsp; ||  &nbsp; _05 June 2020_  &nbsp;"
   ]
  },
  {
   "cell_type": "markdown",
   "metadata": {},
   "source": [
    "Begin by loading the baby names from the US [Social Security Administration](https://www.ssa.gov/oact/babynames/limits.html) and filtering to 1950 through 2018."
   ]
  },
  {
   "cell_type": "markdown",
   "metadata": {},
   "source": [
    "**Download data from the hyperlink `State-specific data`**"
   ]
  },
  {
   "cell_type": "code",
   "execution_count": 3,
   "metadata": {
    "ExecuteTime": {
     "end_time": "2021-12-08T18:19:35.733944Z",
     "start_time": "2021-12-08T18:19:11.315382Z"
    }
   },
   "outputs": [],
   "source": [
    "names_dir = 'namesbystate/'\n",
    "names_data_list = []\n",
    "names_columns = ['state', 'gender', 'year', 'name', 'babies']\n",
    "\n",
    "for file in os.listdir(names_dir):\n",
    "    if file.endswith(\".TXT\"):\n",
    "        names_data = pd.read_csv(names_dir + file, header=None, names=names_columns)\n",
    "        names_data_list.append(names_data)\n",
    "    else:\n",
    "        continue\n",
    "\n",
    "names_data = pd.concat(names_data_list)"
   ]
  },
  {
   "cell_type": "code",
   "execution_count": 4,
   "metadata": {
    "ExecuteTime": {
     "end_time": "2021-12-08T18:19:46.489699Z",
     "start_time": "2021-12-08T18:19:41.428263Z"
    }
   },
   "outputs": [],
   "source": [
    "data = names_data[names_data.year >= 1950]"
   ]
  },
  {
   "cell_type": "code",
   "execution_count": 5,
   "metadata": {
    "ExecuteTime": {
     "end_time": "2021-12-08T18:19:47.233759Z",
     "start_time": "2021-12-08T18:19:47.173700Z"
    }
   },
   "outputs": [
    {
     "data": {
      "text/html": [
       "<div>\n",
       "<style scoped>\n",
       "    .dataframe tbody tr th:only-of-type {\n",
       "        vertical-align: middle;\n",
       "    }\n",
       "\n",
       "    .dataframe tbody tr th {\n",
       "        vertical-align: top;\n",
       "    }\n",
       "\n",
       "    .dataframe thead th {\n",
       "        text-align: right;\n",
       "    }\n",
       "</style>\n",
       "<table border=\"1\" class=\"dataframe\">\n",
       "  <thead>\n",
       "    <tr style=\"text-align: right;\">\n",
       "      <th></th>\n",
       "      <th>state</th>\n",
       "      <th>gender</th>\n",
       "      <th>year</th>\n",
       "      <th>name</th>\n",
       "      <th>babies</th>\n",
       "    </tr>\n",
       "  </thead>\n",
       "  <tbody>\n",
       "    <tr>\n",
       "      <th>1269</th>\n",
       "      <td>AK</td>\n",
       "      <td>F</td>\n",
       "      <td>1950</td>\n",
       "      <td>Mary</td>\n",
       "      <td>71</td>\n",
       "    </tr>\n",
       "    <tr>\n",
       "      <th>1270</th>\n",
       "      <td>AK</td>\n",
       "      <td>F</td>\n",
       "      <td>1950</td>\n",
       "      <td>Linda</td>\n",
       "      <td>68</td>\n",
       "    </tr>\n",
       "    <tr>\n",
       "      <th>1271</th>\n",
       "      <td>AK</td>\n",
       "      <td>F</td>\n",
       "      <td>1950</td>\n",
       "      <td>Barbara</td>\n",
       "      <td>46</td>\n",
       "    </tr>\n",
       "    <tr>\n",
       "      <th>1272</th>\n",
       "      <td>AK</td>\n",
       "      <td>F</td>\n",
       "      <td>1950</td>\n",
       "      <td>Patricia</td>\n",
       "      <td>38</td>\n",
       "    </tr>\n",
       "    <tr>\n",
       "      <th>1273</th>\n",
       "      <td>AK</td>\n",
       "      <td>F</td>\n",
       "      <td>1950</td>\n",
       "      <td>Susan</td>\n",
       "      <td>33</td>\n",
       "    </tr>\n",
       "  </tbody>\n",
       "</table>\n",
       "</div>"
      ],
      "text/plain": [
       "     state gender  year      name  babies\n",
       "1269    AK      F  1950      Mary      71\n",
       "1270    AK      F  1950     Linda      68\n",
       "1271    AK      F  1950   Barbara      46\n",
       "1272    AK      F  1950  Patricia      38\n",
       "1273    AK      F  1950     Susan      33"
      ]
     },
     "execution_count": 5,
     "metadata": {},
     "output_type": "execute_result"
    }
   ],
   "source": [
    "data.head()"
   ]
  },
  {
   "cell_type": "markdown",
   "metadata": {},
   "source": [
    "Higher proportion of male babies registered with Social Security Administration"
   ]
  },
  {
   "cell_type": "code",
   "execution_count": 6,
   "metadata": {
    "ExecuteTime": {
     "end_time": "2021-12-08T18:20:30.328912Z",
     "start_time": "2021-12-08T18:20:28.217073Z"
    }
   },
   "outputs": [
    {
     "data": {
      "text/plain": [
       "gender\n",
       "F    0.47002\n",
       "M    0.52998\n",
       "Name: babies, dtype: float64"
      ]
     },
     "execution_count": 6,
     "metadata": {},
     "output_type": "execute_result"
    }
   ],
   "source": [
    "data.groupby('gender').babies.sum() / data.babies.sum()"
   ]
  },
  {
   "cell_type": "code",
   "execution_count": 7,
   "metadata": {
    "ExecuteTime": {
     "end_time": "2021-12-08T18:20:46.136943Z",
     "start_time": "2021-12-08T18:20:41.579077Z"
    }
   },
   "outputs": [],
   "source": [
    "total_babies = data.babies.sum()\n",
    "female_perc = data[data.gender=='F'].babies.sum() / total_babies\n",
    "male_perc = data[data.gender=='M'].babies.sum() / total_babies"
   ]
  },
  {
   "cell_type": "markdown",
   "metadata": {},
   "source": [
    "### Most Popular Names\n",
    "\n",
    "Check most popular names by gender -- 18 out of top 20 names more commonly given to males."
   ]
  },
  {
   "cell_type": "code",
   "execution_count": 8,
   "metadata": {
    "ExecuteTime": {
     "end_time": "2021-12-08T18:21:27.768090Z",
     "start_time": "2021-12-08T18:21:21.099675Z"
    },
    "scrolled": true
   },
   "outputs": [],
   "source": [
    "most_popular_names = (\n",
    "    data\n",
    "    .groupby(['name', 'gender'])\n",
    "    .babies\n",
    "    .sum()\n",
    "    .reset_index()\n",
    "    .sort_values('babies', ascending=False)\n",
    ")"
   ]
  },
  {
   "cell_type": "code",
   "execution_count": 9,
   "metadata": {
    "ExecuteTime": {
     "end_time": "2021-12-08T18:21:28.904100Z",
     "start_time": "2021-12-08T18:21:28.761100Z"
    }
   },
   "outputs": [
    {
     "data": {
      "text/html": [
       "<div>\n",
       "<style scoped>\n",
       "    .dataframe tbody tr th:only-of-type {\n",
       "        vertical-align: middle;\n",
       "    }\n",
       "\n",
       "    .dataframe tbody tr th {\n",
       "        vertical-align: top;\n",
       "    }\n",
       "\n",
       "    .dataframe thead th {\n",
       "        text-align: right;\n",
       "    }\n",
       "</style>\n",
       "<table border=\"1\" class=\"dataframe\">\n",
       "  <thead>\n",
       "    <tr style=\"text-align: right;\">\n",
       "      <th></th>\n",
       "      <th>name</th>\n",
       "      <th>gender</th>\n",
       "      <th>babies</th>\n",
       "    </tr>\n",
       "  </thead>\n",
       "  <tbody>\n",
       "    <tr>\n",
       "      <th>21265</th>\n",
       "      <td>Michael</td>\n",
       "      <td>M</td>\n",
       "      <td>3909447</td>\n",
       "    </tr>\n",
       "    <tr>\n",
       "      <th>7361</th>\n",
       "      <td>David</td>\n",
       "      <td>M</td>\n",
       "      <td>2891718</td>\n",
       "    </tr>\n",
       "    <tr>\n",
       "      <th>13079</th>\n",
       "      <td>James</td>\n",
       "      <td>M</td>\n",
       "      <td>2889645</td>\n",
       "    </tr>\n",
       "    <tr>\n",
       "      <th>14536</th>\n",
       "      <td>John</td>\n",
       "      <td>M</td>\n",
       "      <td>2747173</td>\n",
       "    </tr>\n",
       "    <tr>\n",
       "      <th>25057</th>\n",
       "      <td>Robert</td>\n",
       "      <td>M</td>\n",
       "      <td>2579123</td>\n",
       "    </tr>\n",
       "    <tr>\n",
       "      <th>30681</th>\n",
       "      <td>William</td>\n",
       "      <td>M</td>\n",
       "      <td>2128870</td>\n",
       "    </tr>\n",
       "    <tr>\n",
       "      <th>6066</th>\n",
       "      <td>Christopher</td>\n",
       "      <td>M</td>\n",
       "      <td>2017608</td>\n",
       "    </tr>\n",
       "    <tr>\n",
       "      <th>14780</th>\n",
       "      <td>Joseph</td>\n",
       "      <td>M</td>\n",
       "      <td>1706738</td>\n",
       "    </tr>\n",
       "    <tr>\n",
       "      <th>7056</th>\n",
       "      <td>Daniel</td>\n",
       "      <td>M</td>\n",
       "      <td>1695002</td>\n",
       "    </tr>\n",
       "    <tr>\n",
       "      <th>20705</th>\n",
       "      <td>Matthew</td>\n",
       "      <td>M</td>\n",
       "      <td>1584759</td>\n",
       "    </tr>\n",
       "    <tr>\n",
       "      <th>29137</th>\n",
       "      <td>Thomas</td>\n",
       "      <td>M</td>\n",
       "      <td>1471055</td>\n",
       "    </tr>\n",
       "    <tr>\n",
       "      <th>14008</th>\n",
       "      <td>Jennifer</td>\n",
       "      <td>F</td>\n",
       "      <td>1457179</td>\n",
       "    </tr>\n",
       "    <tr>\n",
       "      <th>24898</th>\n",
       "      <td>Richard</td>\n",
       "      <td>M</td>\n",
       "      <td>1438734</td>\n",
       "    </tr>\n",
       "    <tr>\n",
       "      <th>20573</th>\n",
       "      <td>Mary</td>\n",
       "      <td>F</td>\n",
       "      <td>1352379</td>\n",
       "    </tr>\n",
       "    <tr>\n",
       "      <th>20356</th>\n",
       "      <td>Mark</td>\n",
       "      <td>M</td>\n",
       "      <td>1283199</td>\n",
       "    </tr>\n",
       "    <tr>\n",
       "      <th>2342</th>\n",
       "      <td>Anthony</td>\n",
       "      <td>M</td>\n",
       "      <td>1253527</td>\n",
       "    </tr>\n",
       "    <tr>\n",
       "      <th>14800</th>\n",
       "      <td>Joshua</td>\n",
       "      <td>M</td>\n",
       "      <td>1216692</td>\n",
       "    </tr>\n",
       "    <tr>\n",
       "      <th>27944</th>\n",
       "      <td>Steven</td>\n",
       "      <td>M</td>\n",
       "      <td>1193174</td>\n",
       "    </tr>\n",
       "    <tr>\n",
       "      <th>1979</th>\n",
       "      <td>Andrew</td>\n",
       "      <td>M</td>\n",
       "      <td>1162452</td>\n",
       "    </tr>\n",
       "    <tr>\n",
       "      <th>16689</th>\n",
       "      <td>Kevin</td>\n",
       "      <td>M</td>\n",
       "      <td>1161155</td>\n",
       "    </tr>\n",
       "  </tbody>\n",
       "</table>\n",
       "</div>"
      ],
      "text/plain": [
       "              name gender   babies\n",
       "21265      Michael      M  3909447\n",
       "7361         David      M  2891718\n",
       "13079        James      M  2889645\n",
       "14536         John      M  2747173\n",
       "25057       Robert      M  2579123\n",
       "30681      William      M  2128870\n",
       "6066   Christopher      M  2017608\n",
       "14780       Joseph      M  1706738\n",
       "7056        Daniel      M  1695002\n",
       "20705      Matthew      M  1584759\n",
       "29137       Thomas      M  1471055\n",
       "14008     Jennifer      F  1457179\n",
       "24898      Richard      M  1438734\n",
       "20573         Mary      F  1352379\n",
       "20356         Mark      M  1283199\n",
       "2342       Anthony      M  1253527\n",
       "14800       Joshua      M  1216692\n",
       "27944       Steven      M  1193174\n",
       "1979        Andrew      M  1162452\n",
       "16689        Kevin      M  1161155"
      ]
     },
     "execution_count": 9,
     "metadata": {},
     "output_type": "execute_result"
    }
   ],
   "source": [
    "most_popular_names[:20]   "
   ]
  },
  {
   "cell_type": "markdown",
   "metadata": {},
   "source": [
    "### Unique Names by Gender\n",
    "\n",
    "Calculate and plot number of unique names per gender over time."
   ]
  },
  {
   "cell_type": "code",
   "execution_count": 11,
   "metadata": {
    "ExecuteTime": {
     "end_time": "2021-12-08T18:27:47.415020Z",
     "start_time": "2021-12-08T18:27:24.818756Z"
    }
   },
   "outputs": [],
   "source": [
    "unique_names_per_gender = (\n",
    "    data\n",
    "    .groupby(['year', 'gender'])\n",
    "    .name\n",
    "    .nunique()\n",
    "    .unstack()\n",
    ")"
   ]
  },
  {
   "cell_type": "code",
   "execution_count": 12,
   "metadata": {
    "ExecuteTime": {
     "end_time": "2021-12-08T18:27:49.527785Z",
     "start_time": "2021-12-08T18:27:49.489792Z"
    }
   },
   "outputs": [
    {
     "data": {
      "text/html": [
       "<div>\n",
       "<style scoped>\n",
       "    .dataframe tbody tr th:only-of-type {\n",
       "        vertical-align: middle;\n",
       "    }\n",
       "\n",
       "    .dataframe tbody tr th {\n",
       "        vertical-align: top;\n",
       "    }\n",
       "\n",
       "    .dataframe thead th {\n",
       "        text-align: right;\n",
       "    }\n",
       "</style>\n",
       "<table border=\"1\" class=\"dataframe\">\n",
       "  <thead>\n",
       "    <tr style=\"text-align: right;\">\n",
       "      <th>gender</th>\n",
       "      <th>F</th>\n",
       "      <th>M</th>\n",
       "    </tr>\n",
       "    <tr>\n",
       "      <th>year</th>\n",
       "      <th></th>\n",
       "      <th></th>\n",
       "    </tr>\n",
       "  </thead>\n",
       "  <tbody>\n",
       "    <tr>\n",
       "      <th>1950</th>\n",
       "      <td>2112</td>\n",
       "      <td>1721</td>\n",
       "    </tr>\n",
       "    <tr>\n",
       "      <th>1951</th>\n",
       "      <td>2173</td>\n",
       "      <td>1735</td>\n",
       "    </tr>\n",
       "    <tr>\n",
       "      <th>1952</th>\n",
       "      <td>2210</td>\n",
       "      <td>1763</td>\n",
       "    </tr>\n",
       "    <tr>\n",
       "      <th>1953</th>\n",
       "      <td>2269</td>\n",
       "      <td>1757</td>\n",
       "    </tr>\n",
       "    <tr>\n",
       "      <th>1954</th>\n",
       "      <td>2301</td>\n",
       "      <td>1755</td>\n",
       "    </tr>\n",
       "  </tbody>\n",
       "</table>\n",
       "</div>"
      ],
      "text/plain": [
       "gender     F     M\n",
       "year              \n",
       "1950    2112  1721\n",
       "1951    2173  1735\n",
       "1952    2210  1763\n",
       "1953    2269  1757\n",
       "1954    2301  1755"
      ]
     },
     "execution_count": 12,
     "metadata": {},
     "output_type": "execute_result"
    }
   ],
   "source": [
    "unique_names_per_gender.head()"
   ]
  },
  {
   "cell_type": "markdown",
   "metadata": {},
   "source": [
    "## Overlays"
   ]
  },
  {
   "cell_type": "markdown",
   "metadata": {},
   "source": [
    "### \"Before\" Visual"
   ]
  },
  {
   "cell_type": "code",
   "execution_count": 13,
   "metadata": {
    "ExecuteTime": {
     "end_time": "2021-12-08T18:27:52.573525Z",
     "start_time": "2021-12-08T18:27:50.291258Z"
    }
   },
   "outputs": [
    {
     "data": {
      "text/plain": [
       "<AxesSubplot:xlabel='year'>"
      ]
     },
     "execution_count": 13,
     "metadata": {},
     "output_type": "execute_result"
    },
    {
     "data": {
      "image/png": "[encoded data removed]",
      "text/plain": [
       "<Figure size 432x288 with 1 Axes>"
      ]
     },
     "metadata": {
      "needs_background": "light"
     },
     "output_type": "display_data"
    }
   ],
   "source": [
    "unique_names_per_gender.plot()\n",
    "\n",
    "#plt.savefig('baby_names_before.png', dpi=200);"
   ]
  },
  {
   "cell_type": "markdown",
   "metadata": {},
   "source": [
    "## Post modification"
   ]
  },
  {
   "cell_type": "code",
   "execution_count": 34,
   "metadata": {
    "ExecuteTime": {
     "end_time": "2021-12-08T18:52:14.852709Z",
     "start_time": "2021-12-08T18:52:12.849550Z"
    }
   },
   "outputs": [
    {
     "data": {
      "image/png": "[encoded data removed]",
      "text/plain": [
       "<Figure size 720x360 with 1 Axes>"
      ]
     },
     "metadata": {
      "needs_background": "dark"
     },
     "output_type": "display_data"
    }
   ],
   "source": [
    "# uncomment feature by feature to figure out what each part is doing. \n",
    "\n",
    "unique_names_per_gender.plot(figsize=(10, 5), linewidth=3,\n",
    "                             color=['firebrick', 'gray']\n",
    "                            )\n",
    "\n",
    "# Axes labels\n",
    "plt.xlabel('')\n",
    "plt.ylabel(\"Unique Names\\n in Dataset\",\n",
    "           rotation=0,\n",
    "           position=(-0.1, 0.9),\n",
    "           fontsize=16,\n",
    "           ha='left',\n",
    "           labelpad=125,\n",
    "           color='gray'\n",
    "         )\n",
    "\n",
    "# # # Remove box\n",
    "sns.despine()\n",
    "\n",
    "# # # Set y-limits and remove legend\n",
    "plt.ylim(0, None)\n",
    "plt.legend([], frameon=False)\n",
    "\n",
    "# # # Title\n",
    "plt.title(\"Fewer females in the dataset but far more names for them\\n\",\n",
    "          fontsize=18, loc='right'\n",
    "         )\n",
    "\n",
    "# # # Annotations\n",
    "plt.text(2018, 5500, \"Females\", color='firebrick', fontsize=16, fontweight='bold')\n",
    "plt.text(2018, 4400, \"Males\", color='gray', fontsize=16, fontweight='bold')\n",
    "plt.text(2021, 5100, f'{female_perc*100:.0f}% of babies', fontsize=12, color='gray', fontstyle='italic')\n",
    "plt.text(2021, 4000, f'{male_perc*100:.0f}% of babies', fontsize=12, color='gray', fontstyle='italic')\n",
    "\n",
    "# # # # Tick labels\n",
    "ax = plt.gca()\n",
    "ax.tick_params(axis='both', colors='gray', labelsize=14, length=0)\n",
    "\n",
    "g = ax.get_yticks()\n",
    "plt.yticks(g[1:])\n",
    "\n",
    "ax.get_yaxis().set_major_formatter(\n",
    "    FuncFormatter(lambda x,p: str(int(x/1000))+'K')\n",
    ")\n",
    "\n",
    "# Save figure\n",
    "#plt.savefig('baby_names_final.png', dpi=200, bbox_inches='tight');"
   ]
  },
  {
   "cell_type": "code",
   "execution_count": null,
   "metadata": {},
   "outputs": [],
   "source": []
  }
 ],
 "metadata": {
  "kernelspec": {
   "display_name": "Python 3",
   "language": "python",
   "name": "python3"
  },
  "language_info": {
   "codemirror_mode": {
    "name": "ipython",
    "version": 3
   },
   "file_extension": ".py",
   "mimetype": "text/x-python",
   "name": "python",
   "nbconvert_exporter": "python",
   "pygments_lexer": "ipython3",
   "version": "3.8.5"
  },
  "toc": {
   "base_numbering": 1,
   "nav_menu": {},
   "number_sections": true,
   "sideBar": true,
   "skip_h1_title": false,
   "title_cell": "Table of Contents",
   "title_sidebar": "Contents",
   "toc_cell": false,
   "toc_position": {},
   "toc_section_display": true,
   "toc_window_display": false
  },
  "varInspector": {
   "cols": {
    "lenName": 16,
    "lenType": 16,
    "lenVar": 40
   },
   "kernels_config": {
    "python": {
     "delete_cmd_postfix": "",
     "delete_cmd_prefix": "del ",
     "library": "var_list.py",
     "varRefreshCmd": "print(var_dic_list())"
    },
    "r": {
     "delete_cmd_postfix": ") ",
     "delete_cmd_prefix": "rm(",
     "library": "var_list.r",
     "varRefreshCmd": "cat(var_dic_list()) "
    }
   },
   "types_to_exclude": [
    "module",
    "function",
    "builtin_function_or_method",
    "instance",
    "_Feature"
   ],
   "window_display": false
  }
 },
 "nbformat": 4,
 "nbformat_minor": 2
}
