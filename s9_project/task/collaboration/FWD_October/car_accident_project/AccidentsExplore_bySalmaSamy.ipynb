{
 "cells": [
  {
   "cell_type": "code",
   "execution_count": 92,
   "id": "940946e7",
   "metadata": {},
   "outputs": [],
   "source": [
    "# import all packages and set plots to be embedded inline\n",
    "import numpy as np\n",
    "import pandas as pd\n",
    "import matplotlib.pyplot as plt\n",
    "import seaborn as sb\n",
    "\n",
    "%matplotlib inline"
   ]
  },
  {
   "cell_type": "code",
   "execution_count": 93,
   "id": "8e47cddd",
   "metadata": {},
   "outputs": [
    {
     "data": {
      "text/html": [
       "<div>\n",
       "<style scoped>\n",
       "    .dataframe tbody tr th:only-of-type {\n",
       "        vertical-align: middle;\n",
       "    }\n",
       "\n",
       "    .dataframe tbody tr th {\n",
       "        vertical-align: top;\n",
       "    }\n",
       "\n",
       "    .dataframe thead th {\n",
       "        text-align: right;\n",
       "    }\n",
       "</style>\n",
       "<table border=\"1\" class=\"dataframe\">\n",
       "  <thead>\n",
       "    <tr style=\"text-align: right;\">\n",
       "      <th></th>\n",
       "      <th>id</th>\n",
       "      <th>Severity</th>\n",
       "      <th>Start_Time</th>\n",
       "      <th>End_Time</th>\n",
       "      <th>Start_Lat</th>\n",
       "      <th>Start_Lng</th>\n",
       "      <th>End_Lat</th>\n",
       "      <th>End_Lng</th>\n",
       "      <th>Distance(mi)</th>\n",
       "      <th>Description</th>\n",
       "      <th>...</th>\n",
       "      <th>Roundabout</th>\n",
       "      <th>Station</th>\n",
       "      <th>Stop</th>\n",
       "      <th>Traffic_Calming</th>\n",
       "      <th>Traffic_Signal</th>\n",
       "      <th>Turning_Loop</th>\n",
       "      <th>Sunrise_Sunset</th>\n",
       "      <th>Civil_Twilight</th>\n",
       "      <th>Nautical_Twilight</th>\n",
       "      <th>Astronomical_Twilight</th>\n",
       "    </tr>\n",
       "  </thead>\n",
       "  <tbody>\n",
       "    <tr>\n",
       "      <th>0</th>\n",
       "      <td>A-2283743</td>\n",
       "      <td>2</td>\n",
       "      <td>2019-02-19T08:02:58Z</td>\n",
       "      <td>2019-02-19T08:32:22Z</td>\n",
       "      <td>33.729698</td>\n",
       "      <td>-84.392586</td>\n",
       "      <td>33.729698</td>\n",
       "      <td>-84.392586</td>\n",
       "      <td>0.00</td>\n",
       "      <td>Right hand shoulder blocked due to accident on...</td>\n",
       "      <td>...</td>\n",
       "      <td>False</td>\n",
       "      <td>False</td>\n",
       "      <td>False</td>\n",
       "      <td>False</td>\n",
       "      <td>False</td>\n",
       "      <td>False</td>\n",
       "      <td>Day</td>\n",
       "      <td>Day</td>\n",
       "      <td>Day</td>\n",
       "      <td>Day</td>\n",
       "    </tr>\n",
       "    <tr>\n",
       "      <th>1</th>\n",
       "      <td>A-1567861</td>\n",
       "      <td>2</td>\n",
       "      <td>2017-02-13T20:51:52Z</td>\n",
       "      <td>2017-02-13T21:21:39Z</td>\n",
       "      <td>43.194069</td>\n",
       "      <td>-83.727097</td>\n",
       "      <td>NaN</td>\n",
       "      <td>NaN</td>\n",
       "      <td>0.01</td>\n",
       "      <td>Accident on M-54 Saginaw Rd near Tuscola Rd.</td>\n",
       "      <td>...</td>\n",
       "      <td>False</td>\n",
       "      <td>False</td>\n",
       "      <td>False</td>\n",
       "      <td>False</td>\n",
       "      <td>False</td>\n",
       "      <td>False</td>\n",
       "      <td>Night</td>\n",
       "      <td>Night</td>\n",
       "      <td>Night</td>\n",
       "      <td>Night</td>\n",
       "    </tr>\n",
       "    <tr>\n",
       "      <th>2</th>\n",
       "      <td>A-423709</td>\n",
       "      <td>2</td>\n",
       "      <td>2020-05-22T18:20:00Z</td>\n",
       "      <td>2020-05-22T19:11:35Z</td>\n",
       "      <td>34.000071</td>\n",
       "      <td>-118.409001</td>\n",
       "      <td>34.000071</td>\n",
       "      <td>-118.409001</td>\n",
       "      <td>0.00</td>\n",
       "      <td>At Braddock Dr/Exit 51 - Accident.</td>\n",
       "      <td>...</td>\n",
       "      <td>False</td>\n",
       "      <td>False</td>\n",
       "      <td>False</td>\n",
       "      <td>False</td>\n",
       "      <td>True</td>\n",
       "      <td>False</td>\n",
       "      <td>Day</td>\n",
       "      <td>Day</td>\n",
       "      <td>Day</td>\n",
       "      <td>Day</td>\n",
       "    </tr>\n",
       "    <tr>\n",
       "      <th>3</th>\n",
       "      <td>A-864136</td>\n",
       "      <td>2</td>\n",
       "      <td>2020-03-03T07:47:18Z</td>\n",
       "      <td>2020-03-03T09:17:12Z</td>\n",
       "      <td>32.675549</td>\n",
       "      <td>-96.757278</td>\n",
       "      <td>32.675549</td>\n",
       "      <td>-96.757278</td>\n",
       "      <td>0.00</td>\n",
       "      <td>Accident on Simpson Stuart Rd at Flagstaff Dr.</td>\n",
       "      <td>...</td>\n",
       "      <td>False</td>\n",
       "      <td>False</td>\n",
       "      <td>False</td>\n",
       "      <td>False</td>\n",
       "      <td>False</td>\n",
       "      <td>False</td>\n",
       "      <td>Day</td>\n",
       "      <td>Day</td>\n",
       "      <td>Day</td>\n",
       "      <td>Day</td>\n",
       "    </tr>\n",
       "    <tr>\n",
       "      <th>4</th>\n",
       "      <td>A-2792470</td>\n",
       "      <td>2</td>\n",
       "      <td>2020-01-22T08:05:34Z</td>\n",
       "      <td>2020-01-22T12:05:34Z</td>\n",
       "      <td>42.879050</td>\n",
       "      <td>-121.831060</td>\n",
       "      <td>42.879050</td>\n",
       "      <td>-121.831060</td>\n",
       "      <td>0.00</td>\n",
       "      <td>At Silver Lake Rd/W Boundary Rd - Accident.</td>\n",
       "      <td>...</td>\n",
       "      <td>False</td>\n",
       "      <td>False</td>\n",
       "      <td>False</td>\n",
       "      <td>False</td>\n",
       "      <td>False</td>\n",
       "      <td>False</td>\n",
       "      <td>Day</td>\n",
       "      <td>Day</td>\n",
       "      <td>Day</td>\n",
       "      <td>Day</td>\n",
       "    </tr>\n",
       "  </tbody>\n",
       "</table>\n",
       "<p>5 rows × 47 columns</p>\n",
       "</div>"
      ],
      "text/plain": [
       "          id  Severity            Start_Time              End_Time  Start_Lat  \\\n",
       "0  A-2283743         2  2019-02-19T08:02:58Z  2019-02-19T08:32:22Z  33.729698   \n",
       "1  A-1567861         2  2017-02-13T20:51:52Z  2017-02-13T21:21:39Z  43.194069   \n",
       "2   A-423709         2  2020-05-22T18:20:00Z  2020-05-22T19:11:35Z  34.000071   \n",
       "3   A-864136         2  2020-03-03T07:47:18Z  2020-03-03T09:17:12Z  32.675549   \n",
       "4  A-2792470         2  2020-01-22T08:05:34Z  2020-01-22T12:05:34Z  42.879050   \n",
       "\n",
       "    Start_Lng    End_Lat     End_Lng  Distance(mi)  \\\n",
       "0  -84.392586  33.729698  -84.392586          0.00   \n",
       "1  -83.727097        NaN         NaN          0.01   \n",
       "2 -118.409001  34.000071 -118.409001          0.00   \n",
       "3  -96.757278  32.675549  -96.757278          0.00   \n",
       "4 -121.831060  42.879050 -121.831060          0.00   \n",
       "\n",
       "                                         Description  ...  Roundabout Station  \\\n",
       "0  Right hand shoulder blocked due to accident on...  ...       False   False   \n",
       "1       Accident on M-54 Saginaw Rd near Tuscola Rd.  ...       False   False   \n",
       "2                 At Braddock Dr/Exit 51 - Accident.  ...       False   False   \n",
       "3     Accident on Simpson Stuart Rd at Flagstaff Dr.  ...       False   False   \n",
       "4        At Silver Lake Rd/W Boundary Rd - Accident.  ...       False   False   \n",
       "\n",
       "    Stop Traffic_Calming Traffic_Signal Turning_Loop Sunrise_Sunset  \\\n",
       "0  False           False          False        False            Day   \n",
       "1  False           False          False        False          Night   \n",
       "2  False           False           True        False            Day   \n",
       "3  False           False          False        False            Day   \n",
       "4  False           False          False        False            Day   \n",
       "\n",
       "  Civil_Twilight Nautical_Twilight Astronomical_Twilight  \n",
       "0            Day               Day                   Day  \n",
       "1          Night             Night                 Night  \n",
       "2            Day               Day                   Day  \n",
       "3            Day               Day                   Day  \n",
       "4            Day               Day                   Day  \n",
       "\n",
       "[5 rows x 47 columns]"
      ]
     },
     "execution_count": 93,
     "metadata": {},
     "output_type": "execute_result"
    }
   ],
   "source": [
    "df=pd.read_csv(\"df.csv\")\n",
    "df.head()\n"
   ]
  },
  {
   "cell_type": "code",
   "execution_count": 318,
   "id": "0434b58f",
   "metadata": {},
   "outputs": [
    {
     "name": "stdout",
     "output_type": "stream",
     "text": [
      "<class 'pandas.core.frame.DataFrame'>\n",
      "RangeIndex: 5000 entries, 0 to 4999\n",
      "Data columns (total 48 columns):\n",
      " #   Column                 Non-Null Count  Dtype              \n",
      "---  ------                 --------------  -----              \n",
      " 0   id                     5000 non-null   object             \n",
      " 1   Severity               5000 non-null   int64              \n",
      " 2   Start_Time             5000 non-null   datetime64[ns, UTC]\n",
      " 3   End_Time               5000 non-null   object             \n",
      " 4   Start_Lat              5000 non-null   float64            \n",
      " 5   Start_Lng              5000 non-null   float64            \n",
      " 6   End_Lat                4506 non-null   float64            \n",
      " 7   End_Lng                4506 non-null   float64            \n",
      " 8   Distance(mi)           5000 non-null   float64            \n",
      " 9   Description            5000 non-null   object             \n",
      " 10  Number                 1697 non-null   float64            \n",
      " 11  Street                 5000 non-null   object             \n",
      " 12  Side                   5000 non-null   object             \n",
      " 13  City                   4999 non-null   object             \n",
      " 14  County                 5000 non-null   object             \n",
      " 15  State                  5000 non-null   object             \n",
      " 16  Zipcode                4999 non-null   object             \n",
      " 17  Country                5000 non-null   object             \n",
      " 18  Timezone               4997 non-null   object             \n",
      " 19  Airport_Code           4990 non-null   object             \n",
      " 20  Weather_Timestamp      4919 non-null   object             \n",
      " 21  Temperature(F)         4882 non-null   float64            \n",
      " 22  Wind_Chill(F)          2947 non-null   float64            \n",
      " 23  Humidity(%)            4869 non-null   float64            \n",
      " 24  Pressure(in)           4903 non-null   float64            \n",
      " 25  Visibility(mi)         4876 non-null   float64            \n",
      " 26  Wind_Direction         4888 non-null   object             \n",
      " 27  Wind_Speed(mph)        4455 non-null   float64            \n",
      " 28  Precipitation(in)      2757 non-null   float64            \n",
      " 29  Weather_Condition      4871 non-null   object             \n",
      " 30  Amenity                5000 non-null   bool               \n",
      " 31  Bump                   5000 non-null   bool               \n",
      " 32  Crossing               5000 non-null   bool               \n",
      " 33  Give_Way               5000 non-null   bool               \n",
      " 34  Junction               5000 non-null   bool               \n",
      " 35  No_Exit                5000 non-null   bool               \n",
      " 36  Railway                5000 non-null   bool               \n",
      " 37  Roundabout             5000 non-null   bool               \n",
      " 38  Station                5000 non-null   bool               \n",
      " 39  Stop                   5000 non-null   bool               \n",
      " 40  Traffic_Calming        5000 non-null   bool               \n",
      " 41  Traffic_Signal         5000 non-null   bool               \n",
      " 42  Turning_Loop           5000 non-null   bool               \n",
      " 43  Sunrise_Sunset         4999 non-null   object             \n",
      " 44  Civil_Twilight         4999 non-null   object             \n",
      " 45  Nautical_Twilight      4999 non-null   object             \n",
      " 46  Astronomical_Twilight  4999 non-null   object             \n",
      " 47  start_hour             5000 non-null   int64              \n",
      "dtypes: bool(13), datetime64[ns, UTC](1), float64(13), int64(2), object(19)\n",
      "memory usage: 1.4+ MB\n"
     ]
    }
   ],
   "source": [
    "df.info();"
   ]
  },
  {
   "cell_type": "markdown",
   "id": "9f49c04f",
   "metadata": {},
   "source": [
    "### Let's check the accidents severity data and its relation with start time"
   ]
  },
  {
   "cell_type": "code",
   "execution_count": 94,
   "id": "97d8d615",
   "metadata": {},
   "outputs": [],
   "source": [
    "df.Severity.value_counts()\n",
    "df['Start_Time']= pd.to_datetime(df['Start_Time'])\n"
   ]
  },
  {
   "cell_type": "code",
   "execution_count": 637,
   "id": "d8e70446",
   "metadata": {},
   "outputs": [
    {
     "data": {
      "image/png": "[encoded data removed]",
      "text/plain": [
       "<Figure size 432x288 with 1 Axes>"
      ]
     },
     "metadata": {
      "needs_background": "light"
     },
     "output_type": "display_data"
    }
   ],
   "source": [
    "sb.countplot(data=df,x='Severity');\n",
    "plt.ylabel(\"\")\n",
    "plt.title(\"Accidents' Severity level count\");"
   ]
  },
  {
   "cell_type": "markdown",
   "id": "d0cbb508",
   "metadata": {},
   "source": [
    "That shows that accidents with Severity 2 in the most common then comes accidents with severity 3"
   ]
  },
  {
   "cell_type": "code",
   "execution_count": 618,
   "id": "0ca078f3",
   "metadata": {},
   "outputs": [],
   "source": [
    "df[\"start_hour\"]=df.Start_Time.dt.hour\n"
   ]
  },
  {
   "cell_type": "code",
   "execution_count": 639,
   "id": "099bed64",
   "metadata": {},
   "outputs": [
    {
     "data": {
      "image/png": "[encoded data removed]",
      "text/plain": [
       "<Figure size 432x288 with 1 Axes>"
      ]
     },
     "metadata": {
      "needs_background": "light"
     },
     "output_type": "display_data"
    }
   ],
   "source": [
    "colors=sb.color_palette()[0]\n",
    "sb.countplot(data=df,x='start_hour',color=colors);\n",
    "plt.title(\"Total Accidents and their starting hour\");\n",
    "plt.ylabel(\"\");"
   ]
  },
  {
   "cell_type": "markdown",
   "id": "7a486a23",
   "metadata": {},
   "source": [
    "start time data is bimodal"
   ]
  },
  {
   "cell_type": "code",
   "execution_count": 641,
   "id": "c8d0c188",
   "metadata": {},
   "outputs": [
    {
     "data": {
      "image/png": "[encoded data removed]",
      "text/plain": [
       "<Figure size 432x288 with 1 Axes>"
      ]
     },
     "metadata": {
      "needs_background": "light"
     },
     "output_type": "display_data"
    }
   ],
   "source": [
    "plt.hist(data=df,x=\"start_hour\");\n",
    "plt.title(\"Accidents' Starting hour distribution\");"
   ]
  },
  {
   "cell_type": "markdown",
   "id": "d8def030",
   "metadata": {},
   "source": [
    "Start hour data is bimodal"
   ]
  },
  {
   "cell_type": "code",
   "execution_count": 628,
   "id": "eb5ee99e",
   "metadata": {},
   "outputs": [
    {
     "data": {
      "text/html": [
       "<div>\n",
       "<style scoped>\n",
       "    .dataframe tbody tr th:only-of-type {\n",
       "        vertical-align: middle;\n",
       "    }\n",
       "\n",
       "    .dataframe tbody tr th {\n",
       "        vertical-align: top;\n",
       "    }\n",
       "\n",
       "    .dataframe thead th {\n",
       "        text-align: right;\n",
       "    }\n",
       "</style>\n",
       "<table border=\"1\" class=\"dataframe\">\n",
       "  <thead>\n",
       "    <tr style=\"text-align: right;\">\n",
       "      <th>Severity</th>\n",
       "      <th>1</th>\n",
       "      <th>2</th>\n",
       "      <th>3</th>\n",
       "      <th>4</th>\n",
       "    </tr>\n",
       "    <tr>\n",
       "      <th>start_hour</th>\n",
       "      <th></th>\n",
       "      <th></th>\n",
       "      <th></th>\n",
       "      <th></th>\n",
       "    </tr>\n",
       "  </thead>\n",
       "  <tbody>\n",
       "    <tr>\n",
       "      <th>0</th>\n",
       "      <td>NaN</td>\n",
       "      <td>146.0</td>\n",
       "      <td>36.0</td>\n",
       "      <td>48.0</td>\n",
       "    </tr>\n",
       "    <tr>\n",
       "      <th>1</th>\n",
       "      <td>NaN</td>\n",
       "      <td>150.0</td>\n",
       "      <td>45.0</td>\n",
       "      <td>12.0</td>\n",
       "    </tr>\n",
       "    <tr>\n",
       "      <th>2</th>\n",
       "      <td>NaN</td>\n",
       "      <td>112.0</td>\n",
       "      <td>27.0</td>\n",
       "      <td>8.0</td>\n",
       "    </tr>\n",
       "    <tr>\n",
       "      <th>3</th>\n",
       "      <td>NaN</td>\n",
       "      <td>112.0</td>\n",
       "      <td>21.0</td>\n",
       "      <td>12.0</td>\n",
       "    </tr>\n",
       "    <tr>\n",
       "      <th>4</th>\n",
       "      <td>NaN</td>\n",
       "      <td>130.0</td>\n",
       "      <td>63.0</td>\n",
       "      <td>24.0</td>\n",
       "    </tr>\n",
       "  </tbody>\n",
       "</table>\n",
       "</div>"
      ],
      "text/plain": [
       "Severity     1      2     3     4\n",
       "start_hour                       \n",
       "0          NaN  146.0  36.0  48.0\n",
       "1          NaN  150.0  45.0  12.0\n",
       "2          NaN  112.0  27.0   8.0\n",
       "3          NaN  112.0  21.0  12.0\n",
       "4          NaN  130.0  63.0  24.0"
      ]
     },
     "execution_count": 628,
     "metadata": {},
     "output_type": "execute_result"
    }
   ],
   "source": [
    "df1 = (df.groupby(['start_hour','Severity']).Severity.sum().unstack())\n",
    "df1.head()"
   ]
  },
  {
   "cell_type": "code",
   "execution_count": 632,
   "id": "2420374d",
   "metadata": {},
   "outputs": [
    {
     "data": {
      "image/png": "[encoded data removed]",
      "text/plain": [
       "<Figure size 432x288 with 1 Axes>"
      ]
     },
     "metadata": {
      "needs_background": "light"
     },
     "output_type": "display_data"
    }
   ],
   "source": [
    "df1.plot();\n",
    "plt.title(\"Total accidents associated with severity level Relation with starting hour\");\n",
    "plt.xlabel(\"Accident Starting hour\");"
   ]
  },
  {
   "cell_type": "markdown",
   "id": "1fec3d8e",
   "metadata": {},
   "source": [
    "accidents with severity 2 are the most occurring , and for severity 2 and 3 most accidents occur between 5 to 10 and 15 to 20"
   ]
  },
  {
   "cell_type": "markdown",
   "id": "9b30ba18",
   "metadata": {},
   "source": [
    "### Let's check relation between Weather Condition and severity"
   ]
  },
  {
   "cell_type": "code",
   "execution_count": 484,
   "id": "70571e86",
   "metadata": {},
   "outputs": [],
   "source": [
    "#get weather conditions that causes more accidents than mean of total accidents\n",
    "counts=df.Weather_Condition.value_counts()\n",
    "mean_Count=counts.mean()"
   ]
  },
  {
   "cell_type": "code",
   "execution_count": 487,
   "id": "870e3871",
   "metadata": {},
   "outputs": [
    {
     "data": {
      "text/plain": [
       "Fair                1176\n",
       "Clear                843\n",
       "Mostly Cloudy        666\n",
       "Partly Cloudy        474\n",
       "Cloudy               440\n",
       "Overcast             425\n",
       "Light Rain           234\n",
       "Scattered Clouds     194\n",
       "Name: Weather_Condition, dtype: int64"
      ]
     },
     "execution_count": 487,
     "metadata": {},
     "output_type": "execute_result"
    }
   ],
   "source": [
    "df2=df[df.Weather_Condition.isin(counts[counts> mean_Count].index)]\n",
    "df2.Weather_Condition.value_counts()"
   ]
  },
  {
   "cell_type": "code",
   "execution_count": 488,
   "id": "ba0852aa",
   "metadata": {},
   "outputs": [
    {
     "data": {
      "text/html": [
       "<div>\n",
       "<style scoped>\n",
       "    .dataframe tbody tr th:only-of-type {\n",
       "        vertical-align: middle;\n",
       "    }\n",
       "\n",
       "    .dataframe tbody tr th {\n",
       "        vertical-align: top;\n",
       "    }\n",
       "\n",
       "    .dataframe thead th {\n",
       "        text-align: right;\n",
       "    }\n",
       "</style>\n",
       "<table border=\"1\" class=\"dataframe\">\n",
       "  <thead>\n",
       "    <tr style=\"text-align: right;\">\n",
       "      <th>Severity</th>\n",
       "      <th>1</th>\n",
       "      <th>2</th>\n",
       "      <th>3</th>\n",
       "      <th>4</th>\n",
       "    </tr>\n",
       "    <tr>\n",
       "      <th>Weather_Condition</th>\n",
       "      <th></th>\n",
       "      <th></th>\n",
       "      <th></th>\n",
       "      <th></th>\n",
       "    </tr>\n",
       "  </thead>\n",
       "  <tbody>\n",
       "    <tr>\n",
       "      <th>Clear</th>\n",
       "      <td>NaN</td>\n",
       "      <td>554.0</td>\n",
       "      <td>245.0</td>\n",
       "      <td>44.0</td>\n",
       "    </tr>\n",
       "    <tr>\n",
       "      <th>Cloudy</th>\n",
       "      <td>3.0</td>\n",
       "      <td>357.0</td>\n",
       "      <td>62.0</td>\n",
       "      <td>18.0</td>\n",
       "    </tr>\n",
       "    <tr>\n",
       "      <th>Fair</th>\n",
       "      <td>31.0</td>\n",
       "      <td>966.0</td>\n",
       "      <td>138.0</td>\n",
       "      <td>41.0</td>\n",
       "    </tr>\n",
       "    <tr>\n",
       "      <th>Light Rain</th>\n",
       "      <td>1.0</td>\n",
       "      <td>174.0</td>\n",
       "      <td>54.0</td>\n",
       "      <td>5.0</td>\n",
       "    </tr>\n",
       "    <tr>\n",
       "      <th>Mostly Cloudy</th>\n",
       "      <td>11.0</td>\n",
       "      <td>454.0</td>\n",
       "      <td>179.0</td>\n",
       "      <td>22.0</td>\n",
       "    </tr>\n",
       "    <tr>\n",
       "      <th>Overcast</th>\n",
       "      <td>NaN</td>\n",
       "      <td>274.0</td>\n",
       "      <td>131.0</td>\n",
       "      <td>20.0</td>\n",
       "    </tr>\n",
       "    <tr>\n",
       "      <th>Partly Cloudy</th>\n",
       "      <td>3.0</td>\n",
       "      <td>336.0</td>\n",
       "      <td>117.0</td>\n",
       "      <td>18.0</td>\n",
       "    </tr>\n",
       "    <tr>\n",
       "      <th>Scattered Clouds</th>\n",
       "      <td>NaN</td>\n",
       "      <td>120.0</td>\n",
       "      <td>65.0</td>\n",
       "      <td>9.0</td>\n",
       "    </tr>\n",
       "  </tbody>\n",
       "</table>\n",
       "</div>"
      ],
      "text/plain": [
       "Severity              1      2      3     4\n",
       "Weather_Condition                          \n",
       "Clear               NaN  554.0  245.0  44.0\n",
       "Cloudy              3.0  357.0   62.0  18.0\n",
       "Fair               31.0  966.0  138.0  41.0\n",
       "Light Rain          1.0  174.0   54.0   5.0\n",
       "Mostly Cloudy      11.0  454.0  179.0  22.0\n",
       "Overcast            NaN  274.0  131.0  20.0\n",
       "Partly Cloudy       3.0  336.0  117.0  18.0\n",
       "Scattered Clouds    NaN  120.0   65.0   9.0"
      ]
     },
     "execution_count": 488,
     "metadata": {},
     "output_type": "execute_result"
    }
   ],
   "source": [
    "df3 = (df2.groupby(['Weather_Condition','Severity']).Weather_Condition.count().unstack())\n",
    "df3"
   ]
  },
  {
   "cell_type": "code",
   "execution_count": 625,
   "id": "f6bd7430",
   "metadata": {},
   "outputs": [
    {
     "data": {
      "image/png": "[encoded data removed]",
      "text/plain": [
       "<Figure size 432x288 with 1 Axes>"
      ]
     },
     "metadata": {
      "needs_background": "light"
     },
     "output_type": "display_data"
    }
   ],
   "source": [
    "df3.plot();\n",
    "plt.xticks(rotation='30');\n",
    "plt.xlabel(\"\")\n",
    "plt.title(\"Weather conditions and total accidents associated with the severity level\");"
   ]
  },
  {
   "cell_type": "markdown",
   "id": "c537d1d5",
   "metadata": {},
   "source": [
    "it's shows that most accidents occurred in Fair conditions and they have Severity 2"
   ]
  },
  {
   "cell_type": "markdown",
   "id": "dfe949cf",
   "metadata": {},
   "source": [
    "### Check If there're specific streets has bigger occurrence"
   ]
  },
  {
   "cell_type": "code",
   "execution_count": 617,
   "id": "1c9bfd0b",
   "metadata": {},
   "outputs": [
    {
     "data": {
      "text/html": [
       "<div>\n",
       "<style scoped>\n",
       "    .dataframe tbody tr th:only-of-type {\n",
       "        vertical-align: middle;\n",
       "    }\n",
       "\n",
       "    .dataframe tbody tr th {\n",
       "        vertical-align: top;\n",
       "    }\n",
       "\n",
       "    .dataframe thead th {\n",
       "        text-align: right;\n",
       "    }\n",
       "</style>\n",
       "<table border=\"1\" class=\"dataframe\">\n",
       "  <thead>\n",
       "    <tr style=\"text-align: right;\">\n",
       "      <th></th>\n",
       "      <th>id</th>\n",
       "      <th>Severity</th>\n",
       "      <th>Start_Time</th>\n",
       "      <th>End_Time</th>\n",
       "      <th>Start_Lat</th>\n",
       "      <th>Start_Lng</th>\n",
       "      <th>End_Lat</th>\n",
       "      <th>End_Lng</th>\n",
       "      <th>Distance(mi)</th>\n",
       "      <th>Description</th>\n",
       "      <th>...</th>\n",
       "      <th>Station</th>\n",
       "      <th>Stop</th>\n",
       "      <th>Traffic_Calming</th>\n",
       "      <th>Traffic_Signal</th>\n",
       "      <th>Turning_Loop</th>\n",
       "      <th>Sunrise_Sunset</th>\n",
       "      <th>Civil_Twilight</th>\n",
       "      <th>Nautical_Twilight</th>\n",
       "      <th>Astronomical_Twilight</th>\n",
       "      <th>start_hour</th>\n",
       "    </tr>\n",
       "  </thead>\n",
       "  <tbody>\n",
       "    <tr>\n",
       "      <th>0</th>\n",
       "      <td>A-2283743</td>\n",
       "      <td>2</td>\n",
       "      <td>2019-02-19 08:02:58+00:00</td>\n",
       "      <td>2019-02-19T08:32:22Z</td>\n",
       "      <td>33.729698</td>\n",
       "      <td>-84.392586</td>\n",
       "      <td>33.729698</td>\n",
       "      <td>-84.392586</td>\n",
       "      <td>0.00</td>\n",
       "      <td>Right hand shoulder blocked due to accident on...</td>\n",
       "      <td>...</td>\n",
       "      <td>False</td>\n",
       "      <td>False</td>\n",
       "      <td>False</td>\n",
       "      <td>False</td>\n",
       "      <td>False</td>\n",
       "      <td>Day</td>\n",
       "      <td>Day</td>\n",
       "      <td>Day</td>\n",
       "      <td>Day</td>\n",
       "      <td>8</td>\n",
       "    </tr>\n",
       "    <tr>\n",
       "      <th>1</th>\n",
       "      <td>A-1567861</td>\n",
       "      <td>2</td>\n",
       "      <td>2017-02-13 20:51:52+00:00</td>\n",
       "      <td>2017-02-13T21:21:39Z</td>\n",
       "      <td>43.194069</td>\n",
       "      <td>-83.727097</td>\n",
       "      <td>NaN</td>\n",
       "      <td>NaN</td>\n",
       "      <td>0.01</td>\n",
       "      <td>Accident on M-54 Saginaw Rd near Tuscola Rd.</td>\n",
       "      <td>...</td>\n",
       "      <td>False</td>\n",
       "      <td>False</td>\n",
       "      <td>False</td>\n",
       "      <td>False</td>\n",
       "      <td>False</td>\n",
       "      <td>Night</td>\n",
       "      <td>Night</td>\n",
       "      <td>Night</td>\n",
       "      <td>Night</td>\n",
       "      <td>20</td>\n",
       "    </tr>\n",
       "    <tr>\n",
       "      <th>2</th>\n",
       "      <td>A-423709</td>\n",
       "      <td>2</td>\n",
       "      <td>2020-05-22 18:20:00+00:00</td>\n",
       "      <td>2020-05-22T19:11:35Z</td>\n",
       "      <td>34.000071</td>\n",
       "      <td>-118.409001</td>\n",
       "      <td>34.000071</td>\n",
       "      <td>-118.409001</td>\n",
       "      <td>0.00</td>\n",
       "      <td>At Braddock Dr/Exit 51 - Accident.</td>\n",
       "      <td>...</td>\n",
       "      <td>False</td>\n",
       "      <td>False</td>\n",
       "      <td>False</td>\n",
       "      <td>True</td>\n",
       "      <td>False</td>\n",
       "      <td>Day</td>\n",
       "      <td>Day</td>\n",
       "      <td>Day</td>\n",
       "      <td>Day</td>\n",
       "      <td>18</td>\n",
       "    </tr>\n",
       "    <tr>\n",
       "      <th>3</th>\n",
       "      <td>A-864136</td>\n",
       "      <td>2</td>\n",
       "      <td>2020-03-03 07:47:18+00:00</td>\n",
       "      <td>2020-03-03T09:17:12Z</td>\n",
       "      <td>32.675549</td>\n",
       "      <td>-96.757278</td>\n",
       "      <td>32.675549</td>\n",
       "      <td>-96.757278</td>\n",
       "      <td>0.00</td>\n",
       "      <td>Accident on Simpson Stuart Rd at Flagstaff Dr.</td>\n",
       "      <td>...</td>\n",
       "      <td>False</td>\n",
       "      <td>False</td>\n",
       "      <td>False</td>\n",
       "      <td>False</td>\n",
       "      <td>False</td>\n",
       "      <td>Day</td>\n",
       "      <td>Day</td>\n",
       "      <td>Day</td>\n",
       "      <td>Day</td>\n",
       "      <td>7</td>\n",
       "    </tr>\n",
       "    <tr>\n",
       "      <th>4</th>\n",
       "      <td>A-2792470</td>\n",
       "      <td>2</td>\n",
       "      <td>2020-01-22 08:05:34+00:00</td>\n",
       "      <td>2020-01-22T12:05:34Z</td>\n",
       "      <td>42.879050</td>\n",
       "      <td>-121.831060</td>\n",
       "      <td>42.879050</td>\n",
       "      <td>-121.831060</td>\n",
       "      <td>0.00</td>\n",
       "      <td>At Silver Lake Rd/W Boundary Rd - Accident.</td>\n",
       "      <td>...</td>\n",
       "      <td>False</td>\n",
       "      <td>False</td>\n",
       "      <td>False</td>\n",
       "      <td>False</td>\n",
       "      <td>False</td>\n",
       "      <td>Day</td>\n",
       "      <td>Day</td>\n",
       "      <td>Day</td>\n",
       "      <td>Day</td>\n",
       "      <td>8</td>\n",
       "    </tr>\n",
       "  </tbody>\n",
       "</table>\n",
       "<p>5 rows × 48 columns</p>\n",
       "</div>"
      ],
      "text/plain": [
       "          id  Severity                Start_Time              End_Time  \\\n",
       "0  A-2283743         2 2019-02-19 08:02:58+00:00  2019-02-19T08:32:22Z   \n",
       "1  A-1567861         2 2017-02-13 20:51:52+00:00  2017-02-13T21:21:39Z   \n",
       "2   A-423709         2 2020-05-22 18:20:00+00:00  2020-05-22T19:11:35Z   \n",
       "3   A-864136         2 2020-03-03 07:47:18+00:00  2020-03-03T09:17:12Z   \n",
       "4  A-2792470         2 2020-01-22 08:05:34+00:00  2020-01-22T12:05:34Z   \n",
       "\n",
       "   Start_Lat   Start_Lng    End_Lat     End_Lng  Distance(mi)  \\\n",
       "0  33.729698  -84.392586  33.729698  -84.392586          0.00   \n",
       "1  43.194069  -83.727097        NaN         NaN          0.01   \n",
       "2  34.000071 -118.409001  34.000071 -118.409001          0.00   \n",
       "3  32.675549  -96.757278  32.675549  -96.757278          0.00   \n",
       "4  42.879050 -121.831060  42.879050 -121.831060          0.00   \n",
       "\n",
       "                                         Description  ...  Station   Stop  \\\n",
       "0  Right hand shoulder blocked due to accident on...  ...    False  False   \n",
       "1       Accident on M-54 Saginaw Rd near Tuscola Rd.  ...    False  False   \n",
       "2                 At Braddock Dr/Exit 51 - Accident.  ...    False  False   \n",
       "3     Accident on Simpson Stuart Rd at Flagstaff Dr.  ...    False  False   \n",
       "4        At Silver Lake Rd/W Boundary Rd - Accident.  ...    False  False   \n",
       "\n",
       "  Traffic_Calming Traffic_Signal Turning_Loop Sunrise_Sunset Civil_Twilight  \\\n",
       "0           False          False        False            Day            Day   \n",
       "1           False          False        False          Night          Night   \n",
       "2           False           True        False            Day            Day   \n",
       "3           False          False        False            Day            Day   \n",
       "4           False          False        False            Day            Day   \n",
       "\n",
       "  Nautical_Twilight Astronomical_Twilight start_hour  \n",
       "0               Day                   Day          8  \n",
       "1             Night                 Night         20  \n",
       "2               Day                   Day         18  \n",
       "3               Day                   Day          7  \n",
       "4               Day                   Day          8  \n",
       "\n",
       "[5 rows x 48 columns]"
      ]
     },
     "execution_count": 617,
     "metadata": {},
     "output_type": "execute_result"
    }
   ],
   "source": [
    "#filter with severity 2 and 3 as they are the most common accidents\n",
    "df4=df.query(\"Severity==2 or Severity==3 \")\n",
    "df4.head()"
   ]
  },
  {
   "cell_type": "code",
   "execution_count": 646,
   "id": "4ec6ec3a",
   "metadata": {},
   "outputs": [],
   "source": [
    "#select streets with more than 20 accidents\n",
    "counts=df.Street.value_counts()\n",
    "df4=df4[df4.Street.isin(counts[counts> 20].index)]\n"
   ]
  },
  {
   "cell_type": "code",
   "execution_count": 645,
   "id": "ee3e11f8",
   "metadata": {},
   "outputs": [
    {
     "data": {
      "image/png": "[encoded data removed]",
      "text/plain": [
       "<Figure size 576x576 with 1 Axes>"
      ]
     },
     "metadata": {
      "needs_background": "light"
     },
     "output_type": "display_data"
    }
   ],
   "source": [
    "plt.figure(figsize=(8,8))\n",
    "default_color = sb.color_palette()[0]\n",
    "\n",
    "sb.countplot(data=df4,y=\"Street\",hue=\"Severity\",palette=\"Blues\",order=df4.Street.value_counts().index);\n",
    "plt.ylabel(\"\");\n",
    "plt.xlabel(\"\");\n",
    "\n",
    "plt.title(\"Streets' Total Accidents that have Severity level 2 and 3\");"
   ]
  },
  {
   "cell_type": "markdown",
   "id": "54a50fc0",
   "metadata": {},
   "source": [
    "That shows that I-5 N street has the most occurring accidents with severity 2 then comes I-5 S  \n",
    "but I-95 N has the most occurring accidents with severity 3 then comes I-95 S"
   ]
  }
 ],
 "metadata": {
  "kernelspec": {
   "display_name": "Python 3",
   "language": "python",
   "name": "python3"
  },
  "language_info": {
   "codemirror_mode": {
    "name": "ipython",
    "version": 3
   },
   "file_extension": ".py",
   "mimetype": "text/x-python",
   "name": "python",
   "nbconvert_exporter": "python",
   "pygments_lexer": "ipython3",
   "version": "3.8.8"
  }
 },
 "nbformat": 4,
 "nbformat_minor": 5
}
