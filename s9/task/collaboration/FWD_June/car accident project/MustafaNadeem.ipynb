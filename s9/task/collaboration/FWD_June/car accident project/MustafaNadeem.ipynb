{
 "cells": [
  {
   "cell_type": "code",
   "execution_count": 382,
   "id": "0412337f",
   "metadata": {
    "ExecuteTime": {
     "end_time": "2021-08-03T09:27:41.837178Z",
     "start_time": "2021-08-03T09:27:41.830177Z"
    }
   },
   "outputs": [],
   "source": [
    "import pandas as pd \n",
    "import numpy as np\n",
    "import matplotlib.pyplot as plt \n",
    "import seaborn as sns\n",
    "\n",
    "%matplotlib inline"
   ]
  },
  {
   "cell_type": "code",
   "execution_count": 383,
   "id": "67e2df1a",
   "metadata": {
    "ExecuteTime": {
     "end_time": "2021-08-03T09:27:42.882632Z",
     "start_time": "2021-08-03T09:27:42.878652Z"
    }
   },
   "outputs": [],
   "source": [
    "sns.set_style('dark')"
   ]
  },
  {
   "cell_type": "code",
   "execution_count": 417,
   "id": "aec9661c",
   "metadata": {
    "ExecuteTime": {
     "end_time": "2021-08-03T09:33:01.121121Z",
     "start_time": "2021-08-03T09:33:01.025061Z"
    }
   },
   "outputs": [
    {
     "data": {
      "text/html": [
       "<div>\n",
       "<style scoped>\n",
       "    .dataframe tbody tr th:only-of-type {\n",
       "        vertical-align: middle;\n",
       "    }\n",
       "\n",
       "    .dataframe tbody tr th {\n",
       "        vertical-align: top;\n",
       "    }\n",
       "\n",
       "    .dataframe thead th {\n",
       "        text-align: right;\n",
       "    }\n",
       "</style>\n",
       "<table border=\"1\" class=\"dataframe\">\n",
       "  <thead>\n",
       "    <tr style=\"text-align: right;\">\n",
       "      <th></th>\n",
       "      <th>id</th>\n",
       "      <th>Severity</th>\n",
       "      <th>Start_Time</th>\n",
       "      <th>End_Time</th>\n",
       "      <th>Start_Lat</th>\n",
       "      <th>Start_Lng</th>\n",
       "      <th>End_Lat</th>\n",
       "      <th>End_Lng</th>\n",
       "      <th>Distance(mi)</th>\n",
       "      <th>Description</th>\n",
       "      <th>...</th>\n",
       "      <th>Roundabout</th>\n",
       "      <th>Station</th>\n",
       "      <th>Stop</th>\n",
       "      <th>Traffic_Calming</th>\n",
       "      <th>Traffic_Signal</th>\n",
       "      <th>Turning_Loop</th>\n",
       "      <th>Sunrise_Sunset</th>\n",
       "      <th>Civil_Twilight</th>\n",
       "      <th>Nautical_Twilight</th>\n",
       "      <th>Astronomical_Twilight</th>\n",
       "    </tr>\n",
       "  </thead>\n",
       "  <tbody>\n",
       "    <tr>\n",
       "      <th>0</th>\n",
       "      <td>A-2283743</td>\n",
       "      <td>2</td>\n",
       "      <td>2019-02-19T08:02:58Z</td>\n",
       "      <td>2019-02-19T08:32:22Z</td>\n",
       "      <td>33.729698</td>\n",
       "      <td>-84.392586</td>\n",
       "      <td>33.729698</td>\n",
       "      <td>-84.392586</td>\n",
       "      <td>0.00</td>\n",
       "      <td>Right hand shoulder blocked due to accident on...</td>\n",
       "      <td>...</td>\n",
       "      <td>False</td>\n",
       "      <td>False</td>\n",
       "      <td>False</td>\n",
       "      <td>False</td>\n",
       "      <td>False</td>\n",
       "      <td>False</td>\n",
       "      <td>Day</td>\n",
       "      <td>Day</td>\n",
       "      <td>Day</td>\n",
       "      <td>Day</td>\n",
       "    </tr>\n",
       "    <tr>\n",
       "      <th>1</th>\n",
       "      <td>A-1567861</td>\n",
       "      <td>2</td>\n",
       "      <td>2017-02-13T20:51:52Z</td>\n",
       "      <td>2017-02-13T21:21:39Z</td>\n",
       "      <td>43.194069</td>\n",
       "      <td>-83.727097</td>\n",
       "      <td>NaN</td>\n",
       "      <td>NaN</td>\n",
       "      <td>0.01</td>\n",
       "      <td>Accident on M-54 Saginaw Rd near Tuscola Rd.</td>\n",
       "      <td>...</td>\n",
       "      <td>False</td>\n",
       "      <td>False</td>\n",
       "      <td>False</td>\n",
       "      <td>False</td>\n",
       "      <td>False</td>\n",
       "      <td>False</td>\n",
       "      <td>Night</td>\n",
       "      <td>Night</td>\n",
       "      <td>Night</td>\n",
       "      <td>Night</td>\n",
       "    </tr>\n",
       "    <tr>\n",
       "      <th>2</th>\n",
       "      <td>A-423709</td>\n",
       "      <td>2</td>\n",
       "      <td>2020-05-22T18:20:00Z</td>\n",
       "      <td>2020-05-22T19:11:35Z</td>\n",
       "      <td>34.000071</td>\n",
       "      <td>-118.409001</td>\n",
       "      <td>34.000071</td>\n",
       "      <td>-118.409001</td>\n",
       "      <td>0.00</td>\n",
       "      <td>At Braddock Dr/Exit 51 - Accident.</td>\n",
       "      <td>...</td>\n",
       "      <td>False</td>\n",
       "      <td>False</td>\n",
       "      <td>False</td>\n",
       "      <td>False</td>\n",
       "      <td>True</td>\n",
       "      <td>False</td>\n",
       "      <td>Day</td>\n",
       "      <td>Day</td>\n",
       "      <td>Day</td>\n",
       "      <td>Day</td>\n",
       "    </tr>\n",
       "    <tr>\n",
       "      <th>3</th>\n",
       "      <td>A-864136</td>\n",
       "      <td>2</td>\n",
       "      <td>2020-03-03T07:47:18Z</td>\n",
       "      <td>2020-03-03T09:17:12Z</td>\n",
       "      <td>32.675549</td>\n",
       "      <td>-96.757278</td>\n",
       "      <td>32.675549</td>\n",
       "      <td>-96.757278</td>\n",
       "      <td>0.00</td>\n",
       "      <td>Accident on Simpson Stuart Rd at Flagstaff Dr.</td>\n",
       "      <td>...</td>\n",
       "      <td>False</td>\n",
       "      <td>False</td>\n",
       "      <td>False</td>\n",
       "      <td>False</td>\n",
       "      <td>False</td>\n",
       "      <td>False</td>\n",
       "      <td>Day</td>\n",
       "      <td>Day</td>\n",
       "      <td>Day</td>\n",
       "      <td>Day</td>\n",
       "    </tr>\n",
       "    <tr>\n",
       "      <th>4</th>\n",
       "      <td>A-2792470</td>\n",
       "      <td>2</td>\n",
       "      <td>2020-01-22T08:05:34Z</td>\n",
       "      <td>2020-01-22T12:05:34Z</td>\n",
       "      <td>42.879050</td>\n",
       "      <td>-121.831060</td>\n",
       "      <td>42.879050</td>\n",
       "      <td>-121.831060</td>\n",
       "      <td>0.00</td>\n",
       "      <td>At Silver Lake Rd/W Boundary Rd - Accident.</td>\n",
       "      <td>...</td>\n",
       "      <td>False</td>\n",
       "      <td>False</td>\n",
       "      <td>False</td>\n",
       "      <td>False</td>\n",
       "      <td>False</td>\n",
       "      <td>False</td>\n",
       "      <td>Day</td>\n",
       "      <td>Day</td>\n",
       "      <td>Day</td>\n",
       "      <td>Day</td>\n",
       "    </tr>\n",
       "  </tbody>\n",
       "</table>\n",
       "<p>5 rows × 47 columns</p>\n",
       "</div>"
      ],
      "text/plain": [
       "          id  Severity            Start_Time              End_Time  Start_Lat  \\\n",
       "0  A-2283743         2  2019-02-19T08:02:58Z  2019-02-19T08:32:22Z  33.729698   \n",
       "1  A-1567861         2  2017-02-13T20:51:52Z  2017-02-13T21:21:39Z  43.194069   \n",
       "2   A-423709         2  2020-05-22T18:20:00Z  2020-05-22T19:11:35Z  34.000071   \n",
       "3   A-864136         2  2020-03-03T07:47:18Z  2020-03-03T09:17:12Z  32.675549   \n",
       "4  A-2792470         2  2020-01-22T08:05:34Z  2020-01-22T12:05:34Z  42.879050   \n",
       "\n",
       "    Start_Lng    End_Lat     End_Lng  Distance(mi)  \\\n",
       "0  -84.392586  33.729698  -84.392586          0.00   \n",
       "1  -83.727097        NaN         NaN          0.01   \n",
       "2 -118.409001  34.000071 -118.409001          0.00   \n",
       "3  -96.757278  32.675549  -96.757278          0.00   \n",
       "4 -121.831060  42.879050 -121.831060          0.00   \n",
       "\n",
       "                                         Description  ...  Roundabout Station  \\\n",
       "0  Right hand shoulder blocked due to accident on...  ...       False   False   \n",
       "1       Accident on M-54 Saginaw Rd near Tuscola Rd.  ...       False   False   \n",
       "2                 At Braddock Dr/Exit 51 - Accident.  ...       False   False   \n",
       "3     Accident on Simpson Stuart Rd at Flagstaff Dr.  ...       False   False   \n",
       "4        At Silver Lake Rd/W Boundary Rd - Accident.  ...       False   False   \n",
       "\n",
       "    Stop Traffic_Calming Traffic_Signal Turning_Loop Sunrise_Sunset  \\\n",
       "0  False           False          False        False            Day   \n",
       "1  False           False          False        False          Night   \n",
       "2  False           False           True        False            Day   \n",
       "3  False           False          False        False            Day   \n",
       "4  False           False          False        False            Day   \n",
       "\n",
       "  Civil_Twilight Nautical_Twilight Astronomical_Twilight  \n",
       "0            Day               Day                   Day  \n",
       "1          Night             Night                 Night  \n",
       "2            Day               Day                   Day  \n",
       "3            Day               Day                   Day  \n",
       "4            Day               Day                   Day  \n",
       "\n",
       "[5 rows x 47 columns]"
      ]
     },
     "execution_count": 417,
     "metadata": {},
     "output_type": "execute_result"
    }
   ],
   "source": [
    "df = pd.read_csv('df.csv')\n",
    "df.head()"
   ]
  },
  {
   "cell_type": "code",
   "execution_count": 418,
   "id": "c12d1c51",
   "metadata": {
    "ExecuteTime": {
     "end_time": "2021-08-03T09:33:01.743447Z",
     "start_time": "2021-08-03T09:33:01.725447Z"
    }
   },
   "outputs": [
    {
     "name": "stdout",
     "output_type": "stream",
     "text": [
      "<class 'pandas.core.frame.DataFrame'>\n",
      "RangeIndex: 5000 entries, 0 to 4999\n",
      "Data columns (total 47 columns):\n",
      " #   Column                 Non-Null Count  Dtype  \n",
      "---  ------                 --------------  -----  \n",
      " 0   id                     5000 non-null   object \n",
      " 1   Severity               5000 non-null   int64  \n",
      " 2   Start_Time             5000 non-null   object \n",
      " 3   End_Time               5000 non-null   object \n",
      " 4   Start_Lat              5000 non-null   float64\n",
      " 5   Start_Lng              5000 non-null   float64\n",
      " 6   End_Lat                4506 non-null   float64\n",
      " 7   End_Lng                4506 non-null   float64\n",
      " 8   Distance(mi)           5000 non-null   float64\n",
      " 9   Description            5000 non-null   object \n",
      " 10  Number                 1697 non-null   float64\n",
      " 11  Street                 5000 non-null   object \n",
      " 12  Side                   5000 non-null   object \n",
      " 13  City                   4999 non-null   object \n",
      " 14  County                 5000 non-null   object \n",
      " 15  State                  5000 non-null   object \n",
      " 16  Zipcode                4999 non-null   object \n",
      " 17  Country                5000 non-null   object \n",
      " 18  Timezone               4997 non-null   object \n",
      " 19  Airport_Code           4990 non-null   object \n",
      " 20  Weather_Timestamp      4919 non-null   object \n",
      " 21  Temperature(F)         4882 non-null   float64\n",
      " 22  Wind_Chill(F)          2947 non-null   float64\n",
      " 23  Humidity(%)            4869 non-null   float64\n",
      " 24  Pressure(in)           4903 non-null   float64\n",
      " 25  Visibility(mi)         4876 non-null   float64\n",
      " 26  Wind_Direction         4888 non-null   object \n",
      " 27  Wind_Speed(mph)        4455 non-null   float64\n",
      " 28  Precipitation(in)      2757 non-null   float64\n",
      " 29  Weather_Condition      4871 non-null   object \n",
      " 30  Amenity                5000 non-null   bool   \n",
      " 31  Bump                   5000 non-null   bool   \n",
      " 32  Crossing               5000 non-null   bool   \n",
      " 33  Give_Way               5000 non-null   bool   \n",
      " 34  Junction               5000 non-null   bool   \n",
      " 35  No_Exit                5000 non-null   bool   \n",
      " 36  Railway                5000 non-null   bool   \n",
      " 37  Roundabout             5000 non-null   bool   \n",
      " 38  Station                5000 non-null   bool   \n",
      " 39  Stop                   5000 non-null   bool   \n",
      " 40  Traffic_Calming        5000 non-null   bool   \n",
      " 41  Traffic_Signal         5000 non-null   bool   \n",
      " 42  Turning_Loop           5000 non-null   bool   \n",
      " 43  Sunrise_Sunset         4999 non-null   object \n",
      " 44  Civil_Twilight         4999 non-null   object \n",
      " 45  Nautical_Twilight      4999 non-null   object \n",
      " 46  Astronomical_Twilight  4999 non-null   object \n",
      "dtypes: bool(13), float64(13), int64(1), object(20)\n",
      "memory usage: 1.4+ MB\n"
     ]
    }
   ],
   "source": [
    "df.info()"
   ]
  },
  {
   "cell_type": "code",
   "execution_count": 419,
   "id": "42929811",
   "metadata": {
    "ExecuteTime": {
     "end_time": "2021-08-03T09:33:01.996446Z",
     "start_time": "2021-08-03T09:33:01.981484Z"
    }
   },
   "outputs": [],
   "source": [
    "df.dropna(inplace = True)"
   ]
  },
  {
   "cell_type": "code",
   "execution_count": 420,
   "id": "e75e9a52",
   "metadata": {
    "ExecuteTime": {
     "end_time": "2021-08-03T09:33:02.217464Z",
     "start_time": "2021-08-03T09:33:02.189447Z"
    }
   },
   "outputs": [
    {
     "data": {
      "text/plain": [
       "0"
      ]
     },
     "execution_count": 420,
     "metadata": {},
     "output_type": "execute_result"
    }
   ],
   "source": [
    "df.duplicated().sum()"
   ]
  },
  {
   "cell_type": "code",
   "execution_count": 421,
   "id": "71fcb8fd",
   "metadata": {
    "ExecuteTime": {
     "end_time": "2021-08-03T09:33:02.706466Z",
     "start_time": "2021-08-03T09:33:02.703486Z"
    }
   },
   "outputs": [],
   "source": [
    "#df.info()"
   ]
  },
  {
   "cell_type": "code",
   "execution_count": 422,
   "id": "b2140c90",
   "metadata": {
    "ExecuteTime": {
     "end_time": "2021-08-03T09:33:03.134447Z",
     "start_time": "2021-08-03T09:33:03.078494Z"
    }
   },
   "outputs": [
    {
     "data": {
      "text/html": [
       "<div>\n",
       "<style scoped>\n",
       "    .dataframe tbody tr th:only-of-type {\n",
       "        vertical-align: middle;\n",
       "    }\n",
       "\n",
       "    .dataframe tbody tr th {\n",
       "        vertical-align: top;\n",
       "    }\n",
       "\n",
       "    .dataframe thead th {\n",
       "        text-align: right;\n",
       "    }\n",
       "</style>\n",
       "<table border=\"1\" class=\"dataframe\">\n",
       "  <thead>\n",
       "    <tr style=\"text-align: right;\">\n",
       "      <th></th>\n",
       "      <th>Severity</th>\n",
       "      <th>Start_Lat</th>\n",
       "      <th>Start_Lng</th>\n",
       "      <th>End_Lat</th>\n",
       "      <th>End_Lng</th>\n",
       "      <th>Distance(mi)</th>\n",
       "      <th>Number</th>\n",
       "      <th>Temperature(F)</th>\n",
       "      <th>Wind_Chill(F)</th>\n",
       "      <th>Humidity(%)</th>\n",
       "      <th>Pressure(in)</th>\n",
       "      <th>Visibility(mi)</th>\n",
       "      <th>Wind_Speed(mph)</th>\n",
       "      <th>Precipitation(in)</th>\n",
       "    </tr>\n",
       "  </thead>\n",
       "  <tbody>\n",
       "    <tr>\n",
       "      <th>count</th>\n",
       "      <td>847.000000</td>\n",
       "      <td>847.000000</td>\n",
       "      <td>847.000000</td>\n",
       "      <td>847.000000</td>\n",
       "      <td>847.000000</td>\n",
       "      <td>847.000000</td>\n",
       "      <td>847.000000</td>\n",
       "      <td>847.000000</td>\n",
       "      <td>847.000000</td>\n",
       "      <td>847.000000</td>\n",
       "      <td>847.000000</td>\n",
       "      <td>847.000000</td>\n",
       "      <td>847.000000</td>\n",
       "      <td>847.000000</td>\n",
       "    </tr>\n",
       "    <tr>\n",
       "      <th>mean</th>\n",
       "      <td>2.118064</td>\n",
       "      <td>36.111468</td>\n",
       "      <td>-94.690132</td>\n",
       "      <td>36.111363</td>\n",
       "      <td>-94.689706</td>\n",
       "      <td>0.199264</td>\n",
       "      <td>7487.375443</td>\n",
       "      <td>60.973554</td>\n",
       "      <td>59.800236</td>\n",
       "      <td>65.495868</td>\n",
       "      <td>29.337391</td>\n",
       "      <td>8.973813</td>\n",
       "      <td>7.503896</td>\n",
       "      <td>0.003341</td>\n",
       "    </tr>\n",
       "    <tr>\n",
       "      <th>std</th>\n",
       "      <td>0.500819</td>\n",
       "      <td>5.260159</td>\n",
       "      <td>17.416586</td>\n",
       "      <td>5.259929</td>\n",
       "      <td>17.416561</td>\n",
       "      <td>0.779013</td>\n",
       "      <td>15356.328475</td>\n",
       "      <td>18.162207</td>\n",
       "      <td>20.071895</td>\n",
       "      <td>23.883180</td>\n",
       "      <td>1.035983</td>\n",
       "      <td>2.399343</td>\n",
       "      <td>5.526514</td>\n",
       "      <td>0.016604</td>\n",
       "    </tr>\n",
       "    <tr>\n",
       "      <th>min</th>\n",
       "      <td>1.000000</td>\n",
       "      <td>24.662330</td>\n",
       "      <td>-124.247698</td>\n",
       "      <td>24.661070</td>\n",
       "      <td>-124.247010</td>\n",
       "      <td>0.000000</td>\n",
       "      <td>1.000000</td>\n",
       "      <td>9.000000</td>\n",
       "      <td>-4.000000</td>\n",
       "      <td>3.000000</td>\n",
       "      <td>23.590000</td>\n",
       "      <td>0.000000</td>\n",
       "      <td>0.000000</td>\n",
       "      <td>0.000000</td>\n",
       "    </tr>\n",
       "    <tr>\n",
       "      <th>25%</th>\n",
       "      <td>2.000000</td>\n",
       "      <td>33.306809</td>\n",
       "      <td>-112.543302</td>\n",
       "      <td>33.306629</td>\n",
       "      <td>-112.543629</td>\n",
       "      <td>0.000000</td>\n",
       "      <td>964.000000</td>\n",
       "      <td>49.000000</td>\n",
       "      <td>48.000000</td>\n",
       "      <td>48.000000</td>\n",
       "      <td>29.140000</td>\n",
       "      <td>10.000000</td>\n",
       "      <td>3.000000</td>\n",
       "      <td>0.000000</td>\n",
       "    </tr>\n",
       "    <tr>\n",
       "      <th>50%</th>\n",
       "      <td>2.000000</td>\n",
       "      <td>35.558048</td>\n",
       "      <td>-86.819122</td>\n",
       "      <td>35.558489</td>\n",
       "      <td>-86.819122</td>\n",
       "      <td>0.000000</td>\n",
       "      <td>3421.000000</td>\n",
       "      <td>62.000000</td>\n",
       "      <td>62.000000</td>\n",
       "      <td>69.000000</td>\n",
       "      <td>29.640000</td>\n",
       "      <td>10.000000</td>\n",
       "      <td>7.000000</td>\n",
       "      <td>0.000000</td>\n",
       "    </tr>\n",
       "    <tr>\n",
       "      <th>75%</th>\n",
       "      <td>2.000000</td>\n",
       "      <td>40.078746</td>\n",
       "      <td>-80.346731</td>\n",
       "      <td>40.077202</td>\n",
       "      <td>-80.349357</td>\n",
       "      <td>0.105000</td>\n",
       "      <td>8154.500000</td>\n",
       "      <td>75.000000</td>\n",
       "      <td>75.000000</td>\n",
       "      <td>86.000000</td>\n",
       "      <td>29.960000</td>\n",
       "      <td>10.000000</td>\n",
       "      <td>10.000000</td>\n",
       "      <td>0.000000</td>\n",
       "    </tr>\n",
       "    <tr>\n",
       "      <th>max</th>\n",
       "      <td>4.000000</td>\n",
       "      <td>47.989082</td>\n",
       "      <td>-68.456524</td>\n",
       "      <td>47.989082</td>\n",
       "      <td>-68.454573</td>\n",
       "      <td>12.823000</td>\n",
       "      <td>282417.000000</td>\n",
       "      <td>109.000000</td>\n",
       "      <td>109.000000</td>\n",
       "      <td>100.000000</td>\n",
       "      <td>30.390000</td>\n",
       "      <td>15.000000</td>\n",
       "      <td>29.000000</td>\n",
       "      <td>0.220000</td>\n",
       "    </tr>\n",
       "  </tbody>\n",
       "</table>\n",
       "</div>"
      ],
      "text/plain": [
       "         Severity   Start_Lat   Start_Lng     End_Lat     End_Lng  \\\n",
       "count  847.000000  847.000000  847.000000  847.000000  847.000000   \n",
       "mean     2.118064   36.111468  -94.690132   36.111363  -94.689706   \n",
       "std      0.500819    5.260159   17.416586    5.259929   17.416561   \n",
       "min      1.000000   24.662330 -124.247698   24.661070 -124.247010   \n",
       "25%      2.000000   33.306809 -112.543302   33.306629 -112.543629   \n",
       "50%      2.000000   35.558048  -86.819122   35.558489  -86.819122   \n",
       "75%      2.000000   40.078746  -80.346731   40.077202  -80.349357   \n",
       "max      4.000000   47.989082  -68.456524   47.989082  -68.454573   \n",
       "\n",
       "       Distance(mi)         Number  Temperature(F)  Wind_Chill(F)  \\\n",
       "count    847.000000     847.000000      847.000000     847.000000   \n",
       "mean       0.199264    7487.375443       60.973554      59.800236   \n",
       "std        0.779013   15356.328475       18.162207      20.071895   \n",
       "min        0.000000       1.000000        9.000000      -4.000000   \n",
       "25%        0.000000     964.000000       49.000000      48.000000   \n",
       "50%        0.000000    3421.000000       62.000000      62.000000   \n",
       "75%        0.105000    8154.500000       75.000000      75.000000   \n",
       "max       12.823000  282417.000000      109.000000     109.000000   \n",
       "\n",
       "       Humidity(%)  Pressure(in)  Visibility(mi)  Wind_Speed(mph)  \\\n",
       "count   847.000000    847.000000      847.000000       847.000000   \n",
       "mean     65.495868     29.337391        8.973813         7.503896   \n",
       "std      23.883180      1.035983        2.399343         5.526514   \n",
       "min       3.000000     23.590000        0.000000         0.000000   \n",
       "25%      48.000000     29.140000       10.000000         3.000000   \n",
       "50%      69.000000     29.640000       10.000000         7.000000   \n",
       "75%      86.000000     29.960000       10.000000        10.000000   \n",
       "max     100.000000     30.390000       15.000000        29.000000   \n",
       "\n",
       "       Precipitation(in)  \n",
       "count         847.000000  \n",
       "mean            0.003341  \n",
       "std             0.016604  \n",
       "min             0.000000  \n",
       "25%             0.000000  \n",
       "50%             0.000000  \n",
       "75%             0.000000  \n",
       "max             0.220000  "
      ]
     },
     "execution_count": 422,
     "metadata": {},
     "output_type": "execute_result"
    }
   ],
   "source": [
    "df.describe()"
   ]
  },
  {
   "cell_type": "code",
   "execution_count": 423,
   "id": "b88d4db9",
   "metadata": {
    "ExecuteTime": {
     "end_time": "2021-08-03T09:33:03.389483Z",
     "start_time": "2021-08-03T09:33:03.381447Z"
    }
   },
   "outputs": [],
   "source": [
    "# basic function to make count plots a lil easier.\n",
    "def my_count_plot(df, x = None, y =None, order = None, title=''):\n",
    "    ''' seaborn count plot for faster grpahing with all the basics assigned for faster grpahing \n",
    "        and consistancy '''\n",
    "    base_color = sns.color_palette()[0]\n",
    "    sns.countplot(data = df , x=x , y=y, order= order, color = base_color)\n",
    "    plt.title(title.title(), weight = 'bold')\n",
    "    \n",
    "# another basic func for faster axis renaming.\n",
    "def my_axis(x = '', y='', title= ''):\n",
    "    \"\"\" faster axis renaming and titles\"\"\"\n",
    "    plt.xlabel(x.title(), weight = 'bold')\n",
    "    plt.ylabel(y.title(), weight = 'bold')\n",
    "    plt.title(title.title(), weight = 'bold')\n",
    "\n",
    "    \n",
    "def my_fig():\n",
    "    '''adjusting fig size'''\n",
    "    plt.figure(figsize=[14.70, 8.27]);\n"
   ]
  },
  {
   "cell_type": "code",
   "execution_count": 424,
   "id": "4c523258",
   "metadata": {
    "ExecuteTime": {
     "end_time": "2021-08-03T09:33:04.765998Z",
     "start_time": "2021-08-03T09:33:04.069714Z"
    },
    "scrolled": false
   },
   "outputs": [
    {
     "data": {
      "image/png": "[encoded data removed]",
      "text/plain": [
       "<Figure size 1058.4x595.44 with 1 Axes>"
      ]
     },
     "metadata": {},
     "output_type": "display_data"
    }
   ],
   "source": [
    "states_order = df.State.value_counts().index\n",
    "\n",
    "my_fig()\n",
    "my_count_plot(df, x='State', order = states_order)\n",
    "my_axis(x='States', y ='Number of accidents',title='States with highest number of accidents')"
   ]
  },
  {
   "cell_type": "code",
   "execution_count": 425,
   "id": "dda81eec",
   "metadata": {
    "ExecuteTime": {
     "end_time": "2021-08-03T09:33:04.951999Z",
     "start_time": "2021-08-03T09:33:04.940999Z"
    }
   },
   "outputs": [
    {
     "data": {
      "text/plain": [
       "149"
      ]
     },
     "execution_count": 425,
     "metadata": {},
     "output_type": "execute_result"
    }
   ],
   "source": [
    "# Number af accidents in California within the dataset time frame\n",
    "df[df.State == 'CA'].count()[0]"
   ]
  },
  {
   "cell_type": "code",
   "execution_count": 426,
   "id": "145ab72d",
   "metadata": {
    "ExecuteTime": {
     "end_time": "2021-08-03T09:33:05.306999Z",
     "start_time": "2021-08-03T09:33:05.302999Z"
    }
   },
   "outputs": [],
   "source": [
    "ca_day = df[df.State == 'CA']"
   ]
  },
  {
   "cell_type": "code",
   "execution_count": 427,
   "id": "964f7c6f",
   "metadata": {
    "ExecuteTime": {
     "end_time": "2021-08-03T09:33:06.354858Z",
     "start_time": "2021-08-03T09:33:06.349857Z"
    }
   },
   "outputs": [
    {
     "data": {
      "text/plain": [
       "29"
      ]
     },
     "execution_count": 427,
     "metadata": {},
     "output_type": "execute_result"
    }
   ],
   "source": [
    "df.Weather_Condition.nunique()"
   ]
  },
  {
   "cell_type": "code",
   "execution_count": 428,
   "id": "86a694f1",
   "metadata": {
    "ExecuteTime": {
     "end_time": "2021-08-03T09:33:07.627425Z",
     "start_time": "2021-08-03T09:33:07.021726Z"
    }
   },
   "outputs": [
    {
     "data": {
      "image/png": "[encoded data removed]",
      "text/plain": [
       "<Figure size 1058.4x595.44 with 1 Axes>"
      ]
     },
     "metadata": {},
     "output_type": "display_data"
    }
   ],
   "source": [
    "weather_cond = df.Weather_Condition.value_counts().index\n",
    "my_fig()\n",
    "my_count_plot(df = ca_day, y='Weather_Condition',order= weather_cond)\n",
    "my_axis(x='number of accedents',title='the better the weather the more the accidents')"
   ]
  },
  {
   "cell_type": "code",
   "execution_count": 429,
   "id": "62e83983",
   "metadata": {
    "ExecuteTime": {
     "end_time": "2021-08-03T09:33:08.866627Z",
     "start_time": "2021-08-03T09:33:08.862642Z"
    }
   },
   "outputs": [],
   "source": [
    "df.rename(columns={'Temperature(F)': 'Temp'}, inplace=True)"
   ]
  },
  {
   "cell_type": "code",
   "execution_count": 430,
   "id": "afd98254",
   "metadata": {
    "ExecuteTime": {
     "end_time": "2021-08-03T09:33:09.932001Z",
     "start_time": "2021-08-03T09:33:09.925979Z"
    }
   },
   "outputs": [
    {
     "data": {
      "text/plain": [
       "60.97355371900827"
      ]
     },
     "execution_count": 430,
     "metadata": {},
     "output_type": "execute_result"
    }
   ],
   "source": [
    "temp_mean = df.Temp.mean()\n",
    "\n",
    "temp_mean"
   ]
  },
  {
   "cell_type": "code",
   "execution_count": 443,
   "id": "73a888be",
   "metadata": {
    "ExecuteTime": {
     "end_time": "2021-08-03T09:35:34.135550Z",
     "start_time": "2021-08-03T09:35:34.124544Z"
    }
   },
   "outputs": [],
   "source": [
    "# Temp mean isnt working \n",
    "\n",
    "high_temp = df.query(\"Temp > 60.97\")\n",
    "low_temp = df.query(\"Temp <= 60.97\")\n"
   ]
  },
  {
   "cell_type": "code",
   "execution_count": 405,
   "id": "4555989b",
   "metadata": {
    "ExecuteTime": {
     "end_time": "2021-08-03T09:29:13.863322Z",
     "start_time": "2021-08-03T09:29:13.357872Z"
    }
   },
   "outputs": [
    {
     "data": {
      "image/png": "[encoded data removed]",
      "text/plain": [
       "<Figure size 1058.4x595.44 with 1 Axes>"
      ]
     },
     "metadata": {},
     "output_type": "display_data"
    }
   ],
   "source": [
    "my_fig()\n",
    "plt.hist(data = high_temp, x='Severity',density=True,alpha=0.5,label='High Temp Accidents Severity ');\n",
    "plt.xticks([1,2,3,4]);\n",
    "plt.hist(data= low_temp, x='Severity', density=True,alpha =0.5, label= 'Low Temp Accidents Severity',);\n",
    "plt.legend();\n",
    "my_axis(x= 'Severity', y= 'not sure what to call it \\nFrequencey ', title=\"diff between acceidents frequencies \\nwith high and low temp in cali\");"
   ]
  },
  {
   "cell_type": "code",
   "execution_count": 337,
   "id": "f48fb55f",
   "metadata": {
    "ExecuteTime": {
     "end_time": "2021-08-03T09:08:06.331091Z",
     "start_time": "2021-08-03T09:08:04.599040Z"
    }
   },
   "outputs": [
    {
     "data": {
      "image/png": "[encoded data removed]",
      "text/plain": [
       "<Figure size 432x432 with 4 Axes>"
      ]
     },
     "metadata": {},
     "output_type": "display_data"
    }
   ],
   "source": [
    "g = sns.FacetGrid(data = df, col='Severity', col_wrap=2,margin_titles=True);\n",
    "g.map(plt.hist, 'Nautical_Twilight',alpha=0.5 );\n",
    "plt.ylabel('Number of accidents, Day vs Night');"
   ]
  },
  {
   "cell_type": "code",
   "execution_count": null,
   "id": "9df0e987",
   "metadata": {
    "ExecuteTime": {
     "end_time": "2021-08-03T09:05:45.366058Z",
     "start_time": "2021-08-03T09:05:45.366058Z"
    }
   },
   "outputs": [],
   "source": [
    "df.columns"
   ]
  },
  {
   "cell_type": "code",
   "execution_count": 338,
   "id": "567453c3",
   "metadata": {
    "ExecuteTime": {
     "end_time": "2021-08-03T09:08:31.741040Z",
     "start_time": "2021-08-03T09:08:31.326041Z"
    }
   },
   "outputs": [
    {
     "data": {
      "image/png": "[encoded data removed]",
      "text/plain": [
       "<Figure size 1058.4x595.44 with 1 Axes>"
      ]
     },
     "metadata": {},
     "output_type": "display_data"
    }
   ],
   "source": [
    "my_fig()\n",
    "sns.histplot(x=df['Severity'], y = df['Wind_Speed(mph)'])\n",
    "plt.xticks([1,2,3,4]);\n",
    "my_axis(x='severity', y ='Wind Speed (mph)' ,title='Wind Speed doesnt cause alot of accidents')"
   ]
  },
  {
   "cell_type": "code",
   "execution_count": 444,
   "id": "1030dc65",
   "metadata": {
    "ExecuteTime": {
     "end_time": "2021-08-03T09:36:36.971324Z",
     "start_time": "2021-08-03T09:36:34.397650Z"
    }
   },
   "outputs": [
    {
     "data": {
      "image/png": "[encoded data removed]",
      "text/plain": [
       "<Figure size 1058.4x595.44 with 1 Axes>"
      ]
     },
     "metadata": {},
     "output_type": "display_data"
    }
   ],
   "source": [
    "my_fig()\n",
    "sns.barplot(x= 'Severity', y='State', data = df, color= sns.color_palette()[1] , saturation= 0.9, capsize= 0.2)\n",
    "plt.xticks([1,2,3,4]);\n",
    "my_axis(title=\"severity in each state\")"
   ]
  },
  {
   "cell_type": "code",
   "execution_count": null,
   "id": "96d8311c",
   "metadata": {},
   "outputs": [],
   "source": []
  }
 ],
 "metadata": {
  "kernelspec": {
   "display_name": "Python 3 (ipykernel)",
   "language": "python",
   "name": "python3"
  },
  "language_info": {
   "codemirror_mode": {
    "name": "ipython",
    "version": 3
   },
   "file_extension": ".py",
   "mimetype": "text/x-python",
   "name": "python",
   "nbconvert_exporter": "python",
   "pygments_lexer": "ipython3",
   "version": "3.9.6"
  },
  "varInspector": {
   "cols": {
    "lenName": 16,
    "lenType": 16,
    "lenVar": 40
   },
   "kernels_config": {
    "python": {
     "delete_cmd_postfix": "",
     "delete_cmd_prefix": "del ",
     "library": "var_list.py",
     "varRefreshCmd": "print(var_dic_list())"
    },
    "r": {
     "delete_cmd_postfix": ") ",
     "delete_cmd_prefix": "rm(",
     "library": "var_list.r",
     "varRefreshCmd": "cat(var_dic_list()) "
    }
   },
   "types_to_exclude": [
    "module",
    "function",
    "builtin_function_or_method",
    "instance",
    "_Feature"
   ],
   "window_display": false
  }
 },
 "nbformat": 4,
 "nbformat_minor": 5
}
